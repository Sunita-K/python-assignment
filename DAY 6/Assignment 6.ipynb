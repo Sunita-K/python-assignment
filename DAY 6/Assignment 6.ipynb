{
 "cells": [
  {
   "cell_type": "markdown",
   "metadata": {},
   "source": [
    "### Q. 1. \n",
    "* List1 = [1, 2, 3, 4, 5, 7, 8]\n",
    "* List2 = ['a', 'b', 'c', 'd', 'e']\n",
    "* Convert to a dictionary in one line code using list comprehension (without using zip method)"
   ]
  },
  {
   "cell_type": "code",
   "execution_count": 3,
   "metadata": {},
   "outputs": [],
   "source": [
    "List1 = [1, 2, 3, 4, 5, 7, 8]\n",
    "List2 = ['a', 'b', 'c', 'd', 'e']\n",
    "\n",
    "d_length = len(List1) if len(List1) < len(List2) else len(List2)\n",
    "\n",
    "my_dict = {List1[i] : List2[i] for i in range(d_length)}"
   ]
  },
  {
   "cell_type": "code",
   "execution_count": 4,
   "metadata": {},
   "outputs": [
    {
     "data": {
      "text/plain": [
       "{1: 'a', 2: 'b', 3: 'c', 4: 'd', 5: 'e'}"
      ]
     },
     "execution_count": 4,
     "metadata": {},
     "output_type": "execute_result"
    }
   ],
   "source": [
    "my_dict"
   ]
  }
 ],
 "metadata": {
  "kernelspec": {
   "display_name": "Python 3",
   "language": "python",
   "name": "python3"
  },
  "language_info": {
   "codemirror_mode": {
    "name": "ipython",
    "version": 3
   },
   "file_extension": ".py",
   "mimetype": "text/x-python",
   "name": "python",
   "nbconvert_exporter": "python",
   "pygments_lexer": "ipython3",
   "version": "3.7.6"
  }
 },
 "nbformat": 4,
 "nbformat_minor": 4
}
