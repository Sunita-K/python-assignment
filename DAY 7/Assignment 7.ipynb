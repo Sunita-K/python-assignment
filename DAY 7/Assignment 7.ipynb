{
 "cells": [
  {
   "cell_type": "code",
   "execution_count": 19,
   "metadata": {},
   "outputs": [],
   "source": [
    "\n",
    "# Q. 1.\n",
    "# Use the dictionary,\n",
    "# port1 = {21: \"FTP\", 22:\"SSH\", 23: \"telnet\", 80: \"http\"},\n",
    "# and make a new dictionary in which keys become values and values become keys,\n",
    "# as shown: Port2 = {“FTP\":21, \"SSH\":22, “telnet\":23,\"http\": 80}\n"
   ]
  },
  {
   "cell_type": "code",
   "execution_count": 20,
   "metadata": {},
   "outputs": [
    {
     "name": "stdout",
     "output_type": "stream",
     "text": [
      "{'FTP': 21, 'SSH': 22, 'telnet': 23, 'http': 80}\n"
     ]
    }
   ],
   "source": [
    "port1 = {21: \"FTP\", 22:\"SSH\", 23: \"telnet\", 80: \"http\"}\n",
    "Port2 = { k:v for v, k in port1.items() }\n",
    "print(Port2)"
   ]
  },
  {
   "cell_type": "code",
   "execution_count": 21,
   "metadata": {},
   "outputs": [],
   "source": [
    "\n",
    "# Q. 2. \n",
    "# Take a list of tuple as shown below.\n",
    "# [(1,2), (3,4), (5,6),(4,5)]\n",
    "# Make a new list which contains the sum of the number of tuples.\n",
    "# For example\n",
    "# Input\n",
    "# [(1,2), (3,4), (5,6)]\n",
    "# Output\n",
    "# [3, 7, 11]\n"
   ]
  },
  {
   "cell_type": "code",
   "execution_count": 22,
   "metadata": {},
   "outputs": [
    {
     "name": "stdout",
     "output_type": "stream",
     "text": [
      "[3, 7, 11, 9]\n"
     ]
    }
   ],
   "source": [
    "my_list = [(1,2), (3,4), (5,6), (4,5)]\n",
    "new_list = []\n",
    "sum = 0\n",
    "\n",
    "for i in range(len(my_list)):\n",
    "    for j in range(len(my_list[i])):\n",
    "        sum += my_list[i][j]\n",
    "    new_list.append(sum)\n",
    "    sum = 0\n",
    "\n",
    "print(new_list)"
   ]
  },
  {
   "cell_type": "code",
   "execution_count": 23,
   "metadata": {},
   "outputs": [],
   "source": [
    "\n",
    "# Q. 3. \n",
    "# Take a list as shown below\n",
    "# [(1,2,3), [1,2], ['a','hit','less']]\n",
    "# The List contains tuple and lists. Make the elements of inner lists and tuples to outer list\n"
   ]
  },
  {
   "cell_type": "code",
   "execution_count": 24,
   "metadata": {},
   "outputs": [
    {
     "name": "stdout",
     "output_type": "stream",
     "text": [
      "[1, 2, 3, 1, 2, 'a', 'hit', 'less']\n"
     ]
    }
   ],
   "source": [
    "my_list = [(1,2,3), [1,2], ['a','hit','less']]\n",
    "new_list = [x for el in my_list for x in el]\n",
    "print(new_list)"
   ]
  }
 ],
 "metadata": {
  "kernelspec": {
   "display_name": "Python 3",
   "language": "python",
   "name": "python3"
  },
  "language_info": {
   "codemirror_mode": {
    "name": "ipython",
    "version": 3
   },
   "file_extension": ".py",
   "mimetype": "text/x-python",
   "name": "python",
   "nbconvert_exporter": "python",
   "pygments_lexer": "ipython3",
   "version": "3.7.6"
  }
 },
 "nbformat": 4,
 "nbformat_minor": 4
}
